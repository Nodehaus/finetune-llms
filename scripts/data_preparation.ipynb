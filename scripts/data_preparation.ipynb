{
 "cells": [
  {
   "cell_type": "markdown",
   "id": "d8b495d1",
   "metadata": {},
   "source": [
    "# Data Preparation for obligation annotations"
   ]
  },
  {
   "cell_type": "markdown",
   "id": "69c2a589",
   "metadata": {},
   "source": [
    "## Find and copy relevant subset of documents"
   ]
  },
  {
   "cell_type": "code",
   "execution_count": 1,
   "id": "7nalhiehlue",
   "metadata": {},
   "outputs": [
    {
     "name": "stdout",
     "output_type": "stream",
     "text": [
      "Total documents: 14\n",
      "Data Protection: 4\n",
      "Environmental: 5\n",
      "Financial Services: 5\n"
     ]
    }
   ],
   "source": [
    "# EUR-Lex Target Documents for Obligation Extraction\n",
    "# Consolidated versions with CELEX numbers\n",
    "\n",
    "eur_lex_documents = [\n",
    "    # GDPR & Data Protection\n",
    "    {\n",
    "        \"title\": \"General Data Protection Regulation\",\n",
    "        \"celex\": \"02016R0679-20160504\",\n",
    "        \"category\": \"data_protection\",\n",
    "        \"type\": \"regulation\",\n",
    "        \"url\": \"https://eur-lex.europa.eu/legal-content/EN/TXT/?uri=CELEX:02016R0679-20160504\",\n",
    "    },\n",
    "    {\n",
    "        \"title\": \"ePrivacy Directive\",\n",
    "        \"celex\": \"02002L0058-20091219\",\n",
    "        \"category\": \"data_protection\",\n",
    "        \"type\": \"directive\",\n",
    "        \"url\": \"https://eur-lex.europa.eu/legal-content/EN/TXT/?uri=CELEX:02002L0058-20091219\",\n",
    "    },\n",
    "    {\n",
    "        \"title\": \"EU Institutions Data Protection Regulation\",\n",
    "        \"celex\": \"02018R1725-20181212\",\n",
    "        \"category\": \"data_protection\",\n",
    "        \"type\": \"regulation\",\n",
    "        \"url\": \"https://eur-lex.europa.eu/legal-content/EN/TXT/?uri=CELEX:02018R1725-20181212\",\n",
    "    },\n",
    "    {\n",
    "        \"title\": \"Police Directive (Data Protection in Criminal Law)\",\n",
    "        \"celex\": \"02016L0680-20160504\",\n",
    "        \"category\": \"data_protection\",\n",
    "        \"type\": \"directive\",\n",
    "        \"url\": \"https://eur-lex.europa.eu/legal-content/EN/TXT/?uri=CELEX:02016L0680-20160504\",\n",
    "    },\n",
    "    # Environmental Law\n",
    "    {\n",
    "        \"title\": \"EU Deforestation Regulation\",\n",
    "        \"celex\": \"02023R1115-20241226\",\n",
    "        \"category\": \"environmental\",\n",
    "        \"type\": \"regulation\",\n",
    "        \"url\": \"https://eur-lex.europa.eu/legal-content/EN/TXT/?uri=CELEX:02023R1115-20241226\",\n",
    "    },\n",
    "    {\n",
    "        \"title\": \"Industrial Emissions Directive\",\n",
    "        \"celex\": \"02010L0075-20240804\",\n",
    "        \"category\": \"environmental\",\n",
    "        \"type\": \"directive\",\n",
    "        \"url\": \"https://eur-lex.europa.eu/legal-content/EN/TXT/?uri=CELEX:02010L0075-20240804\",\n",
    "    },\n",
    "    {\n",
    "        \"title\": \"REACH Regulation (Chemicals)\",\n",
    "        \"celex\": \"02006R1907-20250623\",\n",
    "        \"category\": \"environmental\",\n",
    "        \"type\": \"regulation\",\n",
    "        \"url\": \"https://eur-lex.europa.eu/legal-content/EN/TXT/?uri=CELEX:02006R1907-20250623\",\n",
    "    },\n",
    "    {\n",
    "        \"title\": \"Waste Framework Directive\",\n",
    "        \"celex\": \"02008L0098-20180705\",\n",
    "        \"category\": \"environmental\",\n",
    "        \"type\": \"directive\",\n",
    "        \"url\": \"https://eur-lex.europa.eu/legal-content/EN/TXT/?uri=CELEX:02008L0098-20180705\",\n",
    "    },\n",
    "    {\n",
    "        \"title\": \"EU Taxonomy Regulation (Sustainable Finance)\",\n",
    "        \"celex\": \"02020R0852-20230101\",\n",
    "        \"category\": \"environmental\",\n",
    "        \"type\": \"regulation\",\n",
    "        \"url\": \"https://eur-lex.europa.eu/legal-content/EN/TXT/?uri=CELEX:02020R0852-20230101\",\n",
    "    },\n",
    "    # Financial Services\n",
    "    {\n",
    "        \"title\": \"MiFID II (Markets in Financial Instruments)\",\n",
    "        \"celex\": \"02014L0065-20250117\",\n",
    "        \"category\": \"financial_services\",\n",
    "        \"type\": \"directive\",\n",
    "        \"url\": \"https://eur-lex.europa.eu/legal-content/EN/TXT/?uri=CELEX:02014L0065-20250117\",\n",
    "    },\n",
    "    {\n",
    "        \"title\": \"Capital Requirements Regulation (CRR)\",\n",
    "        \"celex\": \"02013R0575-20250629\",\n",
    "        \"category\": \"financial_services\",\n",
    "        \"type\": \"regulation\",\n",
    "        \"url\": \"https://eur-lex.europa.eu/legal-content/EN/TXT/?uri=CELEX:02013R0575-20250629\",\n",
    "    },\n",
    "    {\n",
    "        \"title\": \"Capital Requirements Directive (CRD IV)\",\n",
    "        \"celex\": \"02013L0036-20250117\",\n",
    "        \"category\": \"financial_services\",\n",
    "        \"type\": \"directive\",\n",
    "        \"url\": \"https://eur-lex.europa.eu/legal-content/EN/TXT/?uri=CELEX:02013L0036-20250117\",\n",
    "    },\n",
    "    {\n",
    "        \"title\": \"Payment Services Directive 2 (PSD2)\",\n",
    "        \"celex\": \"02015L2366-20250117\",\n",
    "        \"category\": \"financial_services\",\n",
    "        \"type\": \"directive\",\n",
    "        \"url\": \"https://eur-lex.europa.eu/legal-content/EN/TXT/?uri=CELEX:02015L2366-20250117\",\n",
    "    },\n",
    "    {\n",
    "        \"title\": \"Benchmark Regulation\",\n",
    "        \"celex\": \"02016R1011-20220101\",\n",
    "        \"category\": \"financial_services\",\n",
    "        \"type\": \"regulation\",\n",
    "        \"url\": \"https://eur-lex.europa.eu/legal-content/EN/TXT/?uri=CELEX:02016R1011-20220101\",\n",
    "    },\n",
    "]\n",
    "\n",
    "print(f\"Total documents: {len(eur_lex_documents)}\")\n",
    "print(\n",
    "    f\"Data Protection: {len([d for d in eur_lex_documents if d['category'] == 'data_protection'])}\"\n",
    ")\n",
    "print(\n",
    "    f\"Environmental: {len([d for d in eur_lex_documents if d['category'] == 'environmental'])}\"\n",
    ")\n",
    "print(\n",
    "    f\"Financial Services: {len([d for d in eur_lex_documents if d['category'] == 'financial_services'])}\"\n",
    ")"
   ]
  },
  {
   "cell_type": "code",
   "execution_count": 2,
   "id": "153yhikdy21",
   "metadata": {},
   "outputs": [
    {
     "name": "stdout",
     "output_type": "stream",
     "text": [
      "Source folder: ../../corpus-crawler/documents/eng\n",
      "Target folder: ../data/eng/subset\n",
      "Source folder exists: True\n",
      "Target folder exists: True\n"
     ]
    }
   ],
   "source": [
    "import shutil\n",
    "from pathlib import Path\n",
    "\n",
    "# Define paths\n",
    "corpus_folder = Path(\"../../corpus-crawler/documents/eng\")\n",
    "target_folder = Path(\"../data/eng/subset\")\n",
    "\n",
    "# Create target directory if it doesn't exist\n",
    "target_folder.mkdir(parents=True, exist_ok=True)\n",
    "\n",
    "print(f\"Source folder: {corpus_folder}\")\n",
    "print(f\"Target folder: {target_folder}\")\n",
    "print(f\"Source folder exists: {corpus_folder.exists()}\")\n",
    "print(f\"Target folder exists: {target_folder.exists()}\")"
   ]
  },
  {
   "cell_type": "code",
   "execution_count": 3,
   "id": "mwtuyalw57m",
   "metadata": {},
   "outputs": [
    {
     "name": "stdout",
     "output_type": "stream",
     "text": [
      "✓ Copied: 02016R0679-20160504_eng.json\n",
      "✓ Copied: 02002L0058-20091219_eng.json\n",
      "✗ Missing: 02018R1725-20181212_eng.json\n",
      "✓ Copied: 02016L0680-20160504_eng.json\n",
      "✓ Copied: 02023R1115-20241226_eng.json\n",
      "✓ Copied: 02010L0075-20240804_eng.json\n",
      "✓ Copied: 02006R1907-20250623_eng.json\n",
      "✓ Copied: 02008L0098-20180705_eng.json\n",
      "✗ Missing: 02020R0852-20230101_eng.json\n",
      "✓ Copied: 02014L0065-20250117_eng.json\n",
      "✓ Copied: 02013R0575-20250629_eng.json\n",
      "✓ Copied: 02013L0036-20250117_eng.json\n",
      "✓ Copied: 02015L2366-20250117_eng.json\n",
      "✓ Copied: 02016R1011-20220101_eng.json\n",
      "\n",
      "Summary:\n",
      "Copied files: 12\n",
      "Missing files: 2\n"
     ]
    }
   ],
   "source": [
    "# Copy target documents from corpus to subset folder\n",
    "copied_files = []\n",
    "missing_files = []\n",
    "\n",
    "for doc in eur_lex_documents:\n",
    "    celex = doc[\"celex\"]\n",
    "    filename = f\"{celex}_eng.json\"\n",
    "    source_path = corpus_folder / filename\n",
    "    target_path = target_folder / filename\n",
    "\n",
    "    if source_path.exists():\n",
    "        shutil.copy2(source_path, target_path)\n",
    "        copied_files.append(celex)\n",
    "        print(f\"✓ Copied: {filename}\")\n",
    "    else:\n",
    "        missing_files.append(celex)\n",
    "        print(f\"✗ Missing: {filename}\")\n",
    "\n",
    "print(\"\\nSummary:\")\n",
    "print(f\"Copied files: {len(copied_files)}\")\n",
    "print(f\"Missing files: {len(missing_files)}\")"
   ]
  },
  {
   "cell_type": "code",
   "execution_count": 4,
   "id": "b4fa8e73",
   "metadata": {},
   "outputs": [
    {
     "name": "stdout",
     "output_type": "stream",
     "text": [
      "{'title': 'EU Institutions Data Protection Regulation', 'celex': '02018R1725-20181212', 'category': 'data_protection', 'type': 'regulation', 'url': 'https://eur-lex.europa.eu/legal-content/EN/TXT/?uri=CELEX:02018R1725-20181212'}\n",
      "{'title': 'EU Taxonomy Regulation (Sustainable Finance)', 'celex': '02020R0852-20230101', 'category': 'environmental', 'type': 'regulation', 'url': 'https://eur-lex.europa.eu/legal-content/EN/TXT/?uri=CELEX:02020R0852-20230101'}\n"
     ]
    }
   ],
   "source": [
    "for document in eur_lex_documents:\n",
    "    if document[\"celex\"] in missing_files:\n",
    "        print(document)"
   ]
  },
  {
   "cell_type": "markdown",
   "id": "e2a5e2cc",
   "metadata": {},
   "source": [
    "## Create Question/Answer pairs prompts and annotations"
   ]
  },
  {
   "cell_type": "code",
   "execution_count": 9,
   "id": "ebfdc5f1",
   "metadata": {},
   "outputs": [],
   "source": [
    "from pathlib import Path\n",
    "\n",
    "target_folder = Path(\"../data/eng/subset\")"
   ]
  },
  {
   "cell_type": "code",
   "execution_count": 12,
   "id": "a534ace4",
   "metadata": {},
   "outputs": [
    {
     "name": "stdout",
     "output_type": "stream",
     "text": [
      "Generating prompt for ../data/eng/subset/02002L0058-20091219_eng.json\n",
      "Generating prompt for ../data/eng/subset/02015L2366-20250117_eng.json\n",
      "Generating prompt for ../data/eng/subset/02006R1907-20250623_eng.json\n",
      "Generating prompt for ../data/eng/subset/02016R0679-20160504_eng.json\n",
      "Generating prompt for ../data/eng/subset/02014L0065-20250117_eng.json\n",
      "Generating prompt for ../data/eng/subset/02016L0680-20160504_eng.json\n",
      "Generating prompt for ../data/eng/subset/02013L0036-20250117_eng.json\n",
      "Generating prompt for ../data/eng/subset/02016R1011-20220101_eng.json\n",
      "Generating prompt for ../data/eng/subset/02010L0075-20240804_eng.json\n",
      "Generating prompt for ../data/eng/subset/02013R0575-20250629_eng.json\n",
      "Generating prompt for ../data/eng/subset/02008L0098-20180705_eng.json\n",
      "Generating prompt for ../data/eng/subset/02023R1115-20241226_eng.json\n"
     ]
    }
   ],
   "source": [
    "import json\n",
    "\n",
    "from finetune_llms.annotation import QuestionAnswerGenerator\n",
    "\n",
    "prompts_folder = target_folder / \"prompts\"\n",
    "prompts_folder.mkdir(exist_ok=True)\n",
    "input_files = target_folder.glob(\"*_eng.json\")\n",
    "\n",
    "for file_path in input_files:\n",
    "    print(f\"Generating prompt for {file_path}\")\n",
    "\n",
    "    # Load document content\n",
    "    with open(file_path, \"r\", encoding=\"utf-8\") as f:\n",
    "        doc_data = json.load(f)\n",
    "\n",
    "    content = doc_data.get(\"content\")\n",
    "    prompt = QuestionAnswerGenerator.generate_prompts(content, use_chunking=False)\n",
    "\n",
    "    # Save prompt to text file\n",
    "    prompt_filename = file_path.name.replace(\".json\", \".txt\")\n",
    "    prompt_path = prompts_folder / prompt_filename\n",
    "\n",
    "    with open(prompt_path, \"w\", encoding=\"utf-8\") as f:\n",
    "        f.write(prompt[0][0])"
   ]
  },
  {
   "cell_type": "code",
   "execution_count": null,
   "id": "4344ab03",
   "metadata": {},
   "outputs": [],
   "source": [
    "from finetune_llms.ollama_client import OllamaClient\n",
    "\n",
    "ollama_client = OllamaClient(base_url=\"http://localhost:11434\", model=\"gemma3:12b\")\n",
    "\n",
    "annotations_folder = target_folder / \"annotations\"\n",
    "annotations_folder.mkdir(exist_ok=True)\n",
    "input_files = target_folder.glob(\"*_eng.json\")\n",
    "\n",
    "for file_path in input_files:\n",
    "    print(f\"Generating annotations for {file_path}\")\n",
    "\n",
    "    with open(file_path, \"r\", encoding=\"utf-8\") as f:\n",
    "        doc_data = json.load(f)\n",
    "\n",
    "    content = doc_data.get(\"content\")\n",
    "    annotations = QuestionAnswerGenerator.generate_annotations(\n",
    "        ollama_client, content, doc_data.get(\"id\")\n",
    "    )\n",
    "\n",
    "    annotations_filename = file_path.name.replace(\n",
    "        \"_eng.json\", \"eng_qa_annotations.json\"\n",
    "    )\n",
    "    annotations_path = annotations_folder / annotations_filename\n",
    "\n",
    "    with open(prompt_path, \"w\", encoding=\"utf-8\") as f:\n",
    "        json.dump(annotations, f, indent=2)"
   ]
  },
  {
   "cell_type": "markdown",
   "id": "36523ba0",
   "metadata": {},
   "source": [
    "## Create all annotations"
   ]
  },
  {
   "cell_type": "code",
   "execution_count": null,
   "id": "7b590379",
   "metadata": {},
   "outputs": [],
   "source": [
    "from finetune_llms.annotation import (\n",
    "    QuestionAnswerGenerator,\n",
    "    ObligationAnnotationGenerator,\n",
    ")\n",
    "from finetune_llms.ollama_client import OllamaClient\n",
    "\n",
    "ollama_client = OllamaClient(base_url=\"http://localhost:11434\", model=\"gemma3:12b\")\n",
    "\n",
    "annotations_folder = target_folder / \"annotations\"\n",
    "annotations_folder.mkdir(exist_ok=True)\n",
    "input_files = target_folder.glob(\"*_eng.json\")\n",
    "\n",
    "annotations_to_create = {\n",
    "    \"qa_annotations\": QuestionAnswerGenerator,\n",
    "    \"obligation_annotations\": ObligationAnnotationGenerator,\n",
    "}\n",
    "\n",
    "for annotations_name, annotations_class in annotations_to_create.items():\n",
    "    for file_path in input_files:\n",
    "        print(f\"Generating annotations for {file_path}\")\n",
    "\n",
    "        with open(file_path, \"r\", encoding=\"utf-8\") as f:\n",
    "            doc_data = json.load(f)\n",
    "\n",
    "        content = doc_data.get(\"content\")\n",
    "        annotations = annotations_class.generate_annotations(\n",
    "            ollama_client, content, doc_data.get(\"id\")\n",
    "        )\n",
    "\n",
    "        annotations_filename = file_path.name.replace(\n",
    "            \"_eng.json\", f\"eng_{annotations_name}.json\"\n",
    "        )\n",
    "        annotations_path = annotations_folder / annotations_filename\n",
    "\n",
    "        with open(annotations_path, \"w\", encoding=\"utf-8\") as f:\n",
    "            json.dump(annotations, f, indent=2)"
   ]
  }
 ],
 "metadata": {
  "kernelspec": {
   "display_name": "finetune-llms",
   "language": "python",
   "name": "python3"
  },
  "language_info": {
   "codemirror_mode": {
    "name": "ipython",
    "version": 3
   },
   "file_extension": ".py",
   "mimetype": "text/x-python",
   "name": "python",
   "nbconvert_exporter": "python",
   "pygments_lexer": "ipython3",
   "version": "3.13.4"
  }
 },
 "nbformat": 4,
 "nbformat_minor": 5
}
